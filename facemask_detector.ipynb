{
 "cells": [
  {
   "cell_type": "code",
   "execution_count": 1,
   "source": [
    "import numpy as np\r\n",
    "import keras\r\n",
    "import keras.backend as k\r\n",
    "from keras.layers import Conv2D,MaxPooling2D,SpatialDropout2D,Flatten,Dropout,Dense\r\n",
    "from keras.models import Sequential,load_model\r\n",
    "from keras.optimizers import Adam\r\n",
    "from keras.preprocessing import image\r\n",
    "import cv2\r\n",
    "import datetime"
   ],
   "outputs": [],
   "metadata": {}
  },
  {
   "cell_type": "code",
   "execution_count": 2,
   "source": [
    "model=Sequential()\r\n",
    "model.add(Conv2D(32,(3,3),activation='relu',input_shape=(150,150,3)))\r\n",
    "model.add(MaxPooling2D() )\r\n",
    "model.add(Conv2D(32,(3,3),activation='relu'))\r\n",
    "model.add(MaxPooling2D() )\r\n",
    "model.add(Conv2D(32,(3,3),activation='relu'))\r\n",
    "model.add(MaxPooling2D() )\r\n",
    "model.add(Flatten())\r\n",
    "model.add(Dense(100,activation='relu'))\r\n",
    "model.add(Dense(1,activation='sigmoid'))\r\n",
    "model.compile(optimizer='adam',loss='binary_crossentropy',metrics=['accuracy'])"
   ],
   "outputs": [],
   "metadata": {}
  },
  {
   "cell_type": "code",
   "execution_count": 3,
   "source": [
    "from keras.preprocessing.image import ImageDataGenerator\r\n",
    "train_datagen = ImageDataGenerator(\r\n",
    "        rescale=1./255,\r\n",
    "        shear_range=0.2,\r\n",
    "        zoom_range=0.2,\r\n",
    "        horizontal_flip=True)\r\n",
    "\r\n",
    "test_datagen = ImageDataGenerator(rescale=1./255)\r\n",
    "\r\n",
    "training_set = train_datagen.flow_from_directory(\r\n",
    "        'train',\r\n",
    "        target_size=(150,150),\r\n",
    "        batch_size=16 ,\r\n",
    "        class_mode='binary')\r\n",
    "\r\n",
    "test_set = test_datagen.flow_from_directory(\r\n",
    "        'test',\r\n",
    "        target_size=(150,150),\r\n",
    "        batch_size=16,\r\n",
    "        class_mode='binary')\r\n",
    "\r\n",
    "model_saved=model.fit_generator(\r\n",
    "        training_set,\r\n",
    "        epochs=15,\r\n",
    "        validation_data=test_set,\r\n",
    "\r\n",
    "        )\r\n",
    "\r\n",
    "model.save('mymodel.h5',model_saved)\r\n",
    "\r\n",
    "\"\"\"\r\n",
    "        To test for individual images\r\n",
    "        \r\n",
    "\"\"\"\r\n",
    "\r\n",
    "mymodel=load_model('mymodel.h5')\r\n",
    "#test_image=image.load_img('C://Users//Aliyu Isah//Desktop//Internships//GRIP TASKS//FaceMaskDetector//test//without_mask//30.jpg',target_size=(150,150,3))\r\n",
    "test_image=image.load_img(r'C://Users//Aliyu Isah//Desktop//Internships//GRIP TASKS//FaceMaskDetector//test//with_mask//1-with-mask.jpg',\r\n",
    "                          target_size=(150,150,3))\r\n",
    "test_image\r\n",
    "test_image=image.img_to_array(test_image)\r\n",
    "test_image=np.expand_dims(test_image,axis=0)\r\n",
    "mymodel.predict(test_image)[0][0]"
   ],
   "outputs": [
    {
     "output_type": "stream",
     "name": "stdout",
     "text": [
      "Found 1314 images belonging to 2 classes.\n",
      "Found 194 images belonging to 2 classes.\n"
     ]
    },
    {
     "output_type": "stream",
     "name": "stderr",
     "text": [
      "C:\\Users\\Aliyu Isah\\AppData\\Roaming\\Python\\Python38\\site-packages\\tensorflow\\python\\keras\\engine\\training.py:1940: UserWarning: `Model.fit_generator` is deprecated and will be removed in a future version. Please use `Model.fit`, which supports generators.\n",
      "  warnings.warn('`Model.fit_generator` is deprecated and '\n"
     ]
    },
    {
     "output_type": "stream",
     "name": "stdout",
     "text": [
      "Epoch 1/15\n",
      "83/83 [==============================] - 42s 481ms/step - loss: 0.4531 - accuracy: 0.7717 - val_loss: 0.1733 - val_accuracy: 0.9330\n",
      "Epoch 2/15\n",
      "83/83 [==============================] - 38s 452ms/step - loss: 0.1733 - accuracy: 0.9399 - val_loss: 0.1417 - val_accuracy: 0.9485\n",
      "Epoch 3/15\n",
      "35/83 [===========>..................] - ETA: 24s - loss: 0.1382 - accuracy: 0.9571"
     ]
    }
   ],
   "metadata": {}
  },
  {
   "cell_type": "code",
   "execution_count": 7,
   "source": [
    "mymodel=load_model('mymodel.h5')\r\n",
    "cap=cv2.VideoCapture(0)\r\n",
    "face_cascade=cv2.CascadeClassifier('haarcascade_frontalface_default.xml')\r\n",
    "\r\n",
    "while cap.isOpened():\r\n",
    "    _,img=cap.read()\r\n",
    "    face=face_cascade.detectMultiScale(img,scaleFactor=1.1,minNeighbors=4)\r\n",
    "    for(x,y,w,h) in face:\r\n",
    "        face_img = img[y:y+h, x:x+w]\r\n",
    "        cv2.imwrite('temp.jpg',face_img)\r\n",
    "        test_image=image.load_img('temp.jpg',target_size=(150,150,3))\r\n",
    "        test_image=image.img_to_array(test_image)\r\n",
    "        test_image=np.expand_dims(test_image,axis=0)\r\n",
    "        pred=mymodel.predict(test_image)[0][0]\r\n",
    "        if pred==1:\r\n",
    "            cv2.rectangle(img,(x,y),(x+w,y+h),(0,0,255),3)\r\n",
    "            cv2.putText(img,'NO MASK',((x+w)//2,y+h+20),cv2.FONT_HERSHEY_SIMPLEX,1,(0,0,255),3)\r\n",
    "        else:\r\n",
    "            cv2.rectangle(img,(x,y),(x+w,y+h),(0,255,0),3)\r\n",
    "            cv2.putText(img,'WITH MASK',((x+w)//2,y+h+20),cv2.FONT_HERSHEY_SIMPLEX,1,(0,255,0),3)\r\n",
    "        datet=str(datetime.datetime.now())\r\n",
    "        cv2.putText(img,datet,(400,450),cv2.FONT_HERSHEY_SIMPLEX,0.5,(255,255,255),1)\r\n",
    "          \r\n",
    "    cv2.imshow('img',img)\r\n",
    "    \r\n",
    "    if cv2.waitKey(1)==ord('e'):\r\n",
    "        break\r\n",
    "    \r\n",
    "cap.release()\r\n",
    "cv2.destroyAllWindows()"
   ],
   "outputs": [],
   "metadata": {}
  }
 ],
 "metadata": {
  "orig_nbformat": 4,
  "language_info": {
   "name": "python",
   "version": "3.8.5",
   "mimetype": "text/x-python",
   "codemirror_mode": {
    "name": "ipython",
    "version": 3
   },
   "pygments_lexer": "ipython3",
   "nbconvert_exporter": "python",
   "file_extension": ".py"
  },
  "kernelspec": {
   "name": "python3",
   "display_name": "Python 3.8.5 64-bit ('base': conda)"
  },
  "interpreter": {
   "hash": "b3ba2566441a7c06988d0923437866b63cedc61552a5af99d1f4fb67d367b25f"
  }
 },
 "nbformat": 4,
 "nbformat_minor": 2
}